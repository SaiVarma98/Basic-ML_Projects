{
  "cells": [
    {
      "cell_type": "markdown",
      "metadata": {
        "id": "20aTXfwZUEeX"
      },
      "source": [
        "# python implementation of simple Linear Regression on salary data of software engineers"
      ]
    },
    {
      "cell_type": "markdown",
      "metadata": {
        "id": "gcn82QAVUEeh"
      },
      "source": [
        "# step 1: import the libraries"
      ]
    },
    {
      "cell_type": "code",
      "execution_count": null,
      "metadata": {
        "id": "snFzq1OKUEej"
      },
      "outputs": [],
      "source": [
        "import numpy as np\n",
        "import matplotlib.pyplot as plt\n",
        "import pandas as pd\n",
        "from sklearn.model_selection import train_test_split\n",
        "from sklearn.linear_model import LinearRegression"
      ]
    },
    {
      "cell_type": "markdown",
      "metadata": {
        "id": "zphWjBC5UEen"
      },
      "source": [
        "# step 2: reading the data and splitting it to input and output\n"
      ]
    },
    {
      "cell_type": "code",
      "execution_count": null,
      "metadata": {
        "id": "jIxGDO-BUEeo"
      },
      "outputs": [],
      "source": [
        "dataset = pd.read_csv('https://raw.githubusercontent.com/enuguru/aiandml/master/datasets/salary_regression_train.csv')\n",
        "inputx = dataset.iloc[:, :-1].values\n",
        "outputy = dataset.iloc[:, 1].values"
      ]
    },
    {
      "cell_type": "markdown",
      "metadata": {
        "id": "tt4zA8-lUEeq"
      },
      "source": [
        "# step 3: select one thirds of the data for testing and two thirds for training"
      ]
    },
    {
      "cell_type": "code",
      "execution_count": null,
      "metadata": {
        "id": "yrDABsriUEes"
      },
      "outputs": [],
      "source": [
        "input_train, input_test, output_train, output_test = train_test_split(inputx, outputy, test_size = 1/4, random_state = 0)"
      ]
    },
    {
      "cell_type": "markdown",
      "metadata": {
        "id": "gtnADYtmUEet"
      },
      "source": [
        "# step 4: selecting the simple Linear Regression model"
      ]
    },
    {
      "cell_type": "code",
      "execution_count": null,
      "metadata": {
        "id": "ifWNWhlRUEev",
        "outputId": "07af6a54-9c16-4a21-bc7c-92b09b6ea181"
      },
      "outputs": [
        {
          "name": "stdout",
          "output_type": "stream",
          "text": [
            "\n",
            "The parameters of the model are\n",
            "\n",
            " {'copy_X': True, 'fit_intercept': True, 'n_jobs': None, 'normalize': False}\n",
            "\n",
            "The model we are using is  LinearRegression()\n"
          ]
        }
      ],
      "source": [
        "model = LinearRegression()\n",
        "print(\"\\nThe parameters of the model are\\n\\n\",model.get_params())\n",
        "#print(model.set_params())\n",
        "print(\"\\nThe model we are using is \", model.fit(input_train, output_train))"
      ]
    },
    {
      "cell_type": "markdown",
      "metadata": {
        "id": "7YHSRsrHUEez"
      },
      "source": [
        "# step 5: testing or model prediction using testinput"
      ]
    },
    {
      "cell_type": "code",
      "execution_count": null,
      "metadata": {
        "id": "iutsTQ2ZUEe0",
        "outputId": "93d097f3-bb7b-4d61-d16c-1500393c923a"
      },
      "outputs": [
        {
          "name": "stdout",
          "output_type": "stream",
          "text": [
            "\n",
            "Give number of years of experience  7\n",
            "\n",
            "The number of years of experience is  [[7.0]]\n",
            "\n",
            "The salary for the number of years of experience is  [92644.66476036]\n",
            "\n",
            "Can I proceed\n",
            "\n"
          ]
        }
      ],
      "source": [
        "years = float(input(\"\\nGive number of years of experience  \"))\n",
        "testinput = [[years]]\n",
        "predicted_output = model.predict(testinput)\n",
        "print('\\nThe number of years of experience is ',testinput) \n",
        "print('\\nThe salary for the number of years of experience is ',predicted_output) \n",
        "yes = input(\"\\nCan I proceed\\n\")"
      ]
    },
    {
      "cell_type": "markdown",
      "metadata": {
        "id": "BGCT6WmXUEe2"
      },
      "source": [
        "# step 6: Visualising the training results"
      ]
    },
    {
      "cell_type": "code",
      "execution_count": null,
      "metadata": {
        "id": "1zJRlK7gUEe3",
        "outputId": "46c6dc8d-e5c8-4cd0-8e0c-9f17ad485389"
      },
      "outputs": [
        {
          "data": {
            "image/png": "[encoded data removed]",
            "text/plain": [
              "<Figure size 432x288 with 1 Axes>"
            ]
          },
          "metadata": {
            "needs_background": "light"
          },
          "output_type": "display_data"
        }
      ],
      "source": [
        "plt.scatter(input_train, output_train, color = 'red')\n",
        "plt.plot(input_train, model.predict(input_train), color = 'yellow')\n",
        "plt.title('Salary vs Experience (Training set)')\n",
        "plt.xlabel('Years of Experience')\n",
        "plt.ylabel('Salary')\n",
        "plt.show()"
      ]
    },
    {
      "cell_type": "markdown",
      "metadata": {
        "id": "ZeHT0SUVUEe6"
      },
      "source": [
        "# step 7: Printing the testing results"
      ]
    },
    {
      "cell_type": "code",
      "execution_count": null,
      "metadata": {
        "id": "2JK4eOWJUEe7",
        "outputId": "1837c90a-0183-4ddf-f3ce-682fdb76bf93"
      },
      "outputs": [
        {
          "name": "stdout",
          "output_type": "stream",
          "text": [
            "\n",
            "The test input (number of years of experience) is as follows \n",
            "\n",
            "[[ 1.5]\n",
            " [10.3]\n",
            " [ 4.1]\n",
            " [ 3.9]\n",
            " [ 9.5]\n",
            " [ 8.7]\n",
            " [ 9.6]\n",
            " [ 4. ]]\n",
            "\n",
            "The output (salary) for the test input is as follows \n",
            "\n",
            "[ 41056.25705466 123597.70938378  65443.50433372  63567.56223533\n",
            " 116093.94099022 108590.17259667 117031.91203942  64505.53328452]\n"
          ]
        }
      ],
      "source": [
        "print(\"\\nThe test input (number of years of experience) is as follows \\n\")\n",
        "print(input_test)\n",
        "# model predicting the Test set results\n",
        "predicted_output = model.predict(input_test)\n",
        "print(\"\\nThe output (salary) for the test input is as follows \\n\")\n",
        "print(predicted_output)"
      ]
    },
    {
      "cell_type": "code",
      "execution_count": null,
      "metadata": {
        "id": "tP1uhrnGUEe8"
      },
      "outputs": [],
      "source": [
        ""
      ]
    }
  ],
  "metadata": {
    "kernelspec": {
      "display_name": "Python 3",
      "language": "python",
      "name": "python3"
    },
    "language_info": {
      "codemirror_mode": {
        "name": "ipython",
        "version": 3
      },
      "file_extension": ".py",
      "mimetype": "text/x-python",
      "name": "python",
      "nbconvert_exporter": "python",
      "pygments_lexer": "ipython3",
      "version": "3.8.5"
    },
    "colab": {
      "name": "salary_regression_linear_regression_frameworks.ipynb",
      "provenance": []
    }
  },
  "nbformat": 4,
  "nbformat_minor": 0
}