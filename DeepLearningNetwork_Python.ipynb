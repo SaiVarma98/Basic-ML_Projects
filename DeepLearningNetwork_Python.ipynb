{
  "nbformat": 4,
  "nbformat_minor": 0,
  "metadata": {
    "colab": {
      "name": "DeepLearningNetwork_Python.ipynb",
      "provenance": [],
      "authorship_tag": "ABX9TyOV7wFsNNDJTmlwcuGN/GEo",
      "include_colab_link": true
    },
    "kernelspec": {
      "name": "python3",
      "display_name": "Python 3"
    },
    "language_info": {
      "name": "python"
    }
  },
  "cells": [
    {
      "cell_type": "markdown",
      "metadata": {
        "id": "view-in-github",
        "colab_type": "text"
      },
      "source": [
        "<a href=\"https://colab.research.google.com/github/SaiVarma98/Basic-ML_Projects/blob/main/DeepLearningNetwork_Python.ipynb\" target=\"_parent\"><img src=\"https://colab.research.google.com/assets/colab-badge.svg\" alt=\"Open In Colab\"/></a>"
      ]
    },
    {
      "cell_type": "code",
      "execution_count": 2,
      "metadata": {
        "colab": {
          "base_uri": "https://localhost:8080/"
        },
        "id": "CFkrMdNponZh",
        "outputId": "cb4a3f77-56c4-46a7-821c-70954727929b"
      },
      "outputs": [
        {
          "output_type": "stream",
          "name": "stdout",
          "text": [
            "Beginning Random Generated Weights: \n",
            "[[-0.16595599]\n",
            " [ 0.44064899]\n",
            " [-0.99977125]]\n",
            "Ending Weights After Training: \n",
            "[[ 0.12025406]\n",
            " [ 0.50456196]\n",
            " [-0.85063774]]\n",
            "User input one: 1\n",
            "User input two: 0\n",
            "User input three: 0\n",
            "New situation:  1 0 0\n",
            "New output Data: \n",
            "[0.53002734]\n",
            "Congratulations\n"
          ]
        }
      ],
      "source": [
        "import numpy as np\n",
        "\n",
        "class NeuralNetwork():\n",
        "    def __init__(self):\n",
        "        np.random.seed(1)#seeding\n",
        "        \n",
        "        #weight array with 3x1 matrix: -1 to 1 and mean 0\n",
        "        self.synaptic_weights = 2 * np.random.random((3, 1)) - 1\n",
        "        \n",
        "    def sigmoid(self, x):\n",
        "        return 1 / (1 + np.exp(-x))\n",
        "    \n",
        "    def sigmoid_derivative(self, x):\n",
        "        return x * (1 - x)\n",
        "    \n",
        "    #training the model to make accurate predictions while adjusting weights continuously\n",
        "    def train(self, training_inputs, training_outputs, training_iterations):\n",
        "        output = self.think(training_inputs) #perform the forward pass and generate output\n",
        "        #compute error\n",
        "        error = training_outputs - output\n",
        "        \n",
        "        #performing weight adjustments #Error weighted derivative formula\n",
        "        adjustments = np.dot(training_inputs.T, error * self.sigmoid_derivative(output))\n",
        "        \n",
        "        self.synaptic_weights += adjustments\n",
        "        \n",
        "    def think(self, inputs):\n",
        "        inputs = inputs.astype(float)\n",
        "        output = self.sigmoid(np.dot(inputs, self.synaptic_weights))\n",
        "        return output\n",
        "    \n",
        "if __name__ == \"__main__\":\n",
        "    \n",
        "    #instantiate my neural network class\n",
        "    neural_network = NeuralNetwork()\n",
        "    \n",
        "    print(\"Beginning Random Generated Weights: \")\n",
        "    print(neural_network.synaptic_weights)\n",
        "    \n",
        "    #training inputs\n",
        "    training_inputs = np.array([[0, 0, 1],\n",
        "                               [1,1,1],\n",
        "                               [1,0,1],\n",
        "                               [0,1,1]])\n",
        "    \n",
        "    training_outputs = np.array([[0,1,1,0]]).T\n",
        "    \n",
        "    #start the training\n",
        "    neural_network.train(training_inputs, training_outputs, 150)\n",
        "    \n",
        "    print(\"Ending Weights After Training: \")\n",
        "    print(neural_network.synaptic_weights)\n",
        "    \n",
        "    input_one = int(input(\"User input one: \"))\n",
        "    input_two = int(input(\"User input two: \"))\n",
        "    input_three = int(input(\"User input three: \"))\n",
        "    print(\"New situation: \", input_one, input_two, input_three)\n",
        "    print(\"New output Data: \")\n",
        "    print(neural_network.think(np.array([input_one, input_two, input_three])))\n",
        "    print(\"Congratulations\")\n"
      ]
    },
    {
      "cell_type": "code",
      "source": [
        "input_one = str(input(\"User input one: \"))\n",
        "input_two = str(input(\"User input two: \"))\n",
        "input_three = str(input(\"User input three: \"))\n",
        "\n",
        "print(\"New situation: \", input_one, input_two, input_three)\n",
        "print(\"New output Data: \")\n",
        "print(neural_network.think(np.array([input_one, input_two, input_three])))\n",
        "\n",
        "print(\"Congratulations\")"
      ],
      "metadata": {
        "colab": {
          "base_uri": "https://localhost:8080/"
        },
        "id": "rqtkKbyjpHMb",
        "outputId": "2acf0a16-a188-4c8e-8faa-f5b8a66146ec"
      },
      "execution_count": 3,
      "outputs": [
        {
          "output_type": "stream",
          "name": "stdout",
          "text": [
            "User input one: 1\n",
            "User input two: 1\n",
            "User input three: 1\n",
            "New situation:  1 1 1\n",
            "New output Data: \n",
            "[0.44378327]\n",
            "Congratulations\n"
          ]
        }
      ]
    }
  ]
}